{
 "cells": [
  {
   "cell_type": "code",
   "execution_count": 1,
   "id": "a42bc664",
   "metadata": {},
   "outputs": [],
   "source": [
    "#Importing Libraries\n",
    "\n",
    "from tensorflow import keras\n",
    "from keras.models import Sequential\n",
    "from keras.layers import Dense, Dropout, Flatten\n",
    "from keras.layers import Conv2D, MaxPooling2D\n",
    "from tensorflow.keras.utils import to_categorical\n",
    "from tensorflow.keras.preprocessing import image\n",
    "import numpy as np\n",
    "import pandas as pd\n",
    "import matplotlib.pyplot as plt\n",
    "from sklearn.model_selection import train_test_split\n",
    "from tqdm import tqdm\n",
    "import matplotlib.image as mpimg\n",
    "import time"
   ]
  },
  {
   "cell_type": "markdown",
   "id": "25916fe4",
   "metadata": {},
   "source": [
    "**Here we use two Models for prediction.\n",
    "Model1 predicts the damage detection and Model2 predicts the extent_of_damage**"
   ]
  },
  {
   "cell_type": "code",
   "execution_count": 2,
   "id": "ebad0f9b",
   "metadata": {},
   "outputs": [
    {
     "name": "stderr",
     "output_type": "stream",
     "text": [
      "100%|████████████████████████████████████████████████████████████████████████████████| 801/801 [00:37<00:00, 21.08it/s]\n"
     ]
    },
    {
     "name": "stdout",
     "output_type": "stream",
     "text": [
      "The shape of input X is (801, 224, 224, 3)\n"
     ]
    }
   ],
   "source": [
    "#Importing all the training images to the input X from Train folder\n",
    "\n",
    "train_image = []\n",
    "for i in tqdm(range(801)):\n",
    "    img = image.load_img('Train/Train/' + str(i) + '.jpeg',target_size=(224,224,3))  ## link to download Train Dataset Folder\n",
    "    #https://drive.google.com/drive/folders/18_3G_c49punpzjPvnhNB0DN-RAwkZfLE?usp=sharing\n",
    "    img = image.img_to_array(img)\n",
    "    img = img/255\n",
    "    train_image.append(img)\n",
    "X = np.array(train_image)\n",
    "print(\"The shape of input X is\",X.shape)"
   ]
  },
  {
   "cell_type": "code",
   "execution_count": 3,
   "id": "c559d23c",
   "metadata": {},
   "outputs": [
    {
     "name": "stdout",
     "output_type": "stream",
     "text": [
      "The shape of target output Y1 is (801, 6)\n",
      "\n",
      "The first five rows of Y1 is as follows:\n",
      "    dent  glass_shatter  head_lamp  scratch  tail_lamp  unknown\n",
      "0     1              0          1        0          0        0\n",
      "1     0              0          1        0          0        0\n",
      "2     0              0          0        1          0        0\n",
      "3     0              0          1        0          0        0\n",
      "4     0              0          0        0          0        1\n",
      "\n",
      "The shape of target output Y2 is (801, 4)\n",
      "\n",
      "The first five rows of Y2 is as follows:\n",
      "    0  1  2  3\n",
      "0  0  0  0  1\n",
      "1  0  1  0  0\n",
      "2  0  1  0  0\n",
      "3  0  1  0  0\n",
      "4  1  0  0  0\n"
     ]
    }
   ],
   "source": [
    "#Importing the excel file and creating dummies for class column and saving it to target Y1 for damage detection and Y2 for extent_of_damatge\n",
    "\n",
    "df = pd.read_excel(\"Train/training_label.xlsx\")\n",
    "df = df.drop([\"image\",\"subset\"],axis=1)\n",
    "df[\"class\"]=df[\"class\"].str.replace(\" \",\"\")\n",
    "y1=df['class'].str.get_dummies(sep=',')\n",
    "y2=pd.get_dummies(df[\"extent_of_damage\"])\n",
    "class_names=y1.columns\n",
    "print(\"The shape of target output Y1 is\",y1.shape)\n",
    "print(\"\\nThe first five rows of Y1 is as follows:\\n\",y1.head())\n",
    "print(\"\\nThe shape of target output Y2 is\",y2.shape)\n",
    "print(\"\\nThe first five rows of Y2 is as follows:\\n\",y2.head())"
   ]
  },
  {
   "cell_type": "code",
   "execution_count": 4,
   "id": "37b4752c",
   "metadata": {},
   "outputs": [
    {
     "name": "stderr",
     "output_type": "stream",
     "text": [
      "100%|████████████████████████████████████████████████████████████████████████████████| 300/300 [00:17<00:00, 17.06it/s]"
     ]
    },
    {
     "name": "stdout",
     "output_type": "stream",
     "text": [
      "The shape of test_x is (300, 224, 224, 3)\n"
     ]
    },
    {
     "name": "stderr",
     "output_type": "stream",
     "text": [
      "\n"
     ]
    }
   ],
   "source": [
    "#Importing the test images to test_x from Test folder\n",
    "\n",
    "test_image = []\n",
    "for i in tqdm(range(801,1101)):\n",
    "    img = image.load_img('Test/Test/' + str(i) + '.jpeg',target_size=(224,224,3))# link to download Test Dataset\n",
    "    #https://drive.google.com/drive/folders/1JdLukt1x4LgIZHxZ3n0LDUSs95oTe2tO?usp=sharing\n",
    "    img = image.img_to_array(img)\n",
    "    img = img/255\n",
    "    \n",
    "    test_image.append(img)\n",
    "test_x = np.array(test_image)\n",
    "print(\"The shape of test_x is\",test_x.shape)"
   ]
  },
  {
   "cell_type": "code",
   "execution_count": 5,
   "id": "bd0ddeda",
   "metadata": {},
   "outputs": [],
   "source": [
    "#Spliting the data into 90% train data and 10% valid data for model1\n",
    "\n",
    "X_train1, X_valid1, y_train1, y_valid1 = train_test_split(X, y1, random_state=42, test_size=0.1)"
   ]
  },
  {
   "cell_type": "code",
   "execution_count": 6,
   "id": "b54f55e1",
   "metadata": {},
   "outputs": [],
   "source": [
    "#Loading the pre-trained model1 for damage detection\n",
    "\n",
    "from keras.models import load_model\n",
    "model1 = load_model('model1.h5')#link to download pretrained model\n",
    "#https://drive.google.com/file/d/1R-JCX4s9qQulMTVnxR7aDxCeX0RVEaw5/view?usp=sharing"
   ]
  },
  {
   "cell_type": "code",
   "execution_count": 7,
   "id": "844d9a53",
   "metadata": {},
   "outputs": [
    {
     "name": "stdout",
     "output_type": "stream",
     "text": [
      "23/23 [==============================] - 123s 4s/step - loss: 0.0017 - accuracy: 0.9403\n",
      "\n",
      "For Model1, the training loss is  0.0017395718023180962 and the training accuracy is  0.9402777552604675\n"
     ]
    }
   ],
   "source": [
    "#Evaluating the loss and accuracy on train data for model1\n",
    "\n",
    "train_loss1, train_accuracy1 = model1.evaluate(X_train1,y_train1)\n",
    "print(\"\\nFor Model1, the training loss is \",train_loss1,\"and the training accuracy is \",train_accuracy1)"
   ]
  },
  {
   "cell_type": "code",
   "execution_count": 8,
   "id": "9e138d2b",
   "metadata": {},
   "outputs": [
    {
     "name": "stdout",
     "output_type": "stream",
     "text": [
      "3/3 [==============================] - 18s 3s/step - loss: 0.4245 - accuracy: 0.7407\n",
      "\n",
      "For Model1, the training loss is  0.4245094060897827 and the training accuracy is  0.7407407164573669\n"
     ]
    }
   ],
   "source": [
    "#Evaluating the loss and accuracy on validation data for model1\n",
    "\n",
    "validation_loss1, validation_accuracy1 = model1.evaluate(X_valid1,y_valid1)\n",
    "print(\"\\nFor Model1, the training loss is \",validation_loss1,\"and the training accuracy is \",validation_accuracy1)"
   ]
  },
  {
   "cell_type": "code",
   "execution_count": 9,
   "id": "2840fb7d",
   "metadata": {},
   "outputs": [
    {
     "name": "stdout",
     "output_type": "stream",
     "text": [
      "10/10 [==============================] - 60s 4s/step\n",
      "Time taken to predict: 85.3092942237854 seconds\n"
     ]
    }
   ],
   "source": [
    "#Using the pre-trained model1 to carry out prediction on unseen test data\n",
    "\n",
    "start = time.time()\n",
    "pred1=model1.predict(test_x)\n",
    "end = time.time()\n",
    "time1=end-start\n",
    "print(\"Time taken to predict:\",time1,\"seconds\")"
   ]
  },
  {
   "cell_type": "code",
   "execution_count": 10,
   "id": "c9f26a58",
   "metadata": {},
   "outputs": [
    {
     "name": "stdout",
     "output_type": "stream",
     "text": [
      "The prediction for damage detection is as follows:\n",
      "\n",
      "               image  dent  glass_shatter  head_lamp  scratch  tail_lamp  \\\n",
      "1     image/801.jpeg     0              0          0        0          1   \n",
      "2     image/802.jpeg     0              0          0        0          0   \n",
      "3     image/803.jpeg     0              0          0        0          0   \n",
      "4     image/804.jpeg     1              0          0        1          0   \n",
      "5     image/805.jpeg     1              0          1        0          0   \n",
      "..               ...   ...            ...        ...      ...        ...   \n",
      "296  image/1096.jpeg     0              0          0        0          0   \n",
      "297  image/1097.jpeg     0              1          0        0          0   \n",
      "298  image/1098.jpeg     0              0          1        0          0   \n",
      "299  image/1099.jpeg     1              0          0        0          0   \n",
      "300  image/1100.jpeg     0              0          0        0          1   \n",
      "\n",
      "     unknown  \n",
      "1          0  \n",
      "2          0  \n",
      "3          1  \n",
      "4          0  \n",
      "5          0  \n",
      "..       ...  \n",
      "296        0  \n",
      "297        0  \n",
      "298        0  \n",
      "299        0  \n",
      "300        0  \n",
      "\n",
      "[300 rows x 7 columns]\n"
     ]
    }
   ],
   "source": [
    "#Setting the threshold and creating the output dataframe\n",
    "\n",
    "pred1[pred1>=0.5]=1\n",
    "pred1[pred1<0.5]=0\n",
    "pred1 = pred1.astype(int)\n",
    "pred1_df = pd.DataFrame(pred1,columns=class_names)\n",
    "pred1_df.index = np.arange(1, len(pred1)+1)\n",
    "first_column=\"image/\" + (pred1_df.index + 800).astype(str)+\".jpeg\"\n",
    "pred1_df.insert(0, 'image', first_column)\n",
    "print(\"The prediction for damage detection is as follows:\\n\")\n",
    "print(pred1_df)"
   ]
  },
  {
   "cell_type": "code",
   "execution_count": 11,
   "id": "8a11c29c",
   "metadata": {},
   "outputs": [],
   "source": [
    "#Now we use Model2 to predict extent of damage\n",
    "\n",
    "from keras.models import load_model\n",
    "model2 = load_model('model2.h5') # link to download pretrained model\n",
    "#https://drive.google.com/file/d/12pnHm9MEuw3prpRZRur6ddN9iV3vc8Vy/view?usp=sharing"
   ]
  },
  {
   "cell_type": "code",
   "execution_count": 12,
   "id": "d5ca2582",
   "metadata": {},
   "outputs": [],
   "source": [
    "#Spliting the data into 90% train data and 10% valid data for model2\n",
    "\n",
    "X_train2, X_valid2, y_train2, y_valid2 = train_test_split(X, y2, random_state=42, test_size=0.1)"
   ]
  },
  {
   "cell_type": "code",
   "execution_count": 13,
   "id": "60beae9d",
   "metadata": {},
   "outputs": [
    {
     "name": "stdout",
     "output_type": "stream",
     "text": [
      "23/23 [==============================] - 144s 4s/step - loss: 0.0495 - accuracy: 0.9819\n",
      "\n",
      "For Model2, the training loss is  0.04953427240252495 and the training accuracy is  0.9819444417953491\n"
     ]
    }
   ],
   "source": [
    "#Evaluating the loss and accuracy on train data for model2\n",
    "\n",
    "train_loss2, train_accuracy2 = model2.evaluate(X_train2,y_train2)\n",
    "print(\"\\nFor Model2, the training loss is \",train_loss2,\"and the training accuracy is \",train_accuracy2)"
   ]
  },
  {
   "cell_type": "code",
   "execution_count": 14,
   "id": "487a0a8d",
   "metadata": {},
   "outputs": [
    {
     "name": "stdout",
     "output_type": "stream",
     "text": [
      "3/3 [==============================] - 22s 4s/step - loss: 0.6059 - accuracy: 0.8395\n",
      "\n",
      "For Model1, the training loss is  0.6058608293533325 and the training accuracy is  0.8395061492919922\n"
     ]
    }
   ],
   "source": [
    "#Evaluating the loss and accuracy on validation data for model2\n",
    "\n",
    "validation_loss2, validation_accuracy2 = model2.evaluate(X_valid2,y_valid2)\n",
    "print(\"\\nFor Model1, the training loss is \",validation_loss2,\"and the training accuracy is \",validation_accuracy2)"
   ]
  },
  {
   "cell_type": "code",
   "execution_count": 15,
   "id": "21778bb5",
   "metadata": {},
   "outputs": [
    {
     "name": "stdout",
     "output_type": "stream",
     "text": [
      "10/10 [==============================] - 114s 4s/step\n",
      "Time taken to predict: 118.24885129928589 seconds\n",
      "\n",
      "\n",
      "The prediction of extent_of_damage is as follows:\n",
      " [1 1 0 1 3 1 1 0 1 1 1 1 1 1 1 1 1 1 0 3 2 0 1 0 1 0 0 1 1 2 1 1 1 1 2 1 1\n",
      " 2 0 1 0 2 0 1 0 1 1 1 1 1 0 0 0 1 0 1 1 1 2 1 1 2 1 3 1 1 2 1 1 1 0 0 1 1\n",
      " 1 1 0 3 1 0 1 1 1 1 1 0 2 0 1 1 1 2 1 1 2 1 1 2 1 1 1 2 1 0 1 1 1 0 1 0 1\n",
      " 0 0 1 1 1 1 0 3 1 1 1 1 0 1 1 0 0 0 1 0 1 1 1 3 0 0 3 0 2 1 0 1 0 1 1 1 1\n",
      " 0 1 0 0 1 0 1 1 0 1 1 1 1 1 0 0 1 1 0 1 1 0 0 2 3 1 2 1 1 0 1 0 3 1 1 1 3\n",
      " 1 1 1 2 0 1 0 2 2 1 1 1 1 0 1 1 2 0 1 1 1 2 1 1 1 1 1 1 0 1 1 1 1 1 1 1 0\n",
      " 1 1 1 2 0 1 1 1 3 2 1 1 2 1 0 1 1 1 3 1 1 1 1 0 1 1 1 0 3 0 1 1 1 0 1 1 0\n",
      " 1 3 0 3 0 1 2 0 1 1 2 3 1 1 1 1 0 3 1 1 0 2 1 0 1 1 1 1 1 1 1 2 1 1 0 1 0\n",
      " 2 2 1 1]\n"
     ]
    }
   ],
   "source": [
    "#Using the pre-trained model2 to carry out prediction on unseen test data\n",
    "\n",
    "start = time.time()\n",
    "pred2=model2.predict(test_x)\n",
    "end = time.time()\n",
    "time2=end-start\n",
    "print(\"Time taken to predict:\",time2,\"seconds\\n\")\n",
    "pred2 = np.argmax(pred2, axis=1)\n",
    "print(\"\\nThe prediction of extent_of_damage is as follows:\\n\",pred2)"
   ]
  },
  {
   "cell_type": "code",
   "execution_count": 16,
   "id": "9d052b04",
   "metadata": {},
   "outputs": [
    {
     "name": "stdout",
     "output_type": "stream",
     "text": [
      "The final prediction is as follows:\n",
      "\n",
      "               image  dent  glass_shatter  head_lamp  scratch  tail_lamp  \\\n",
      "1     image/801.jpeg     0              0          0        0          1   \n",
      "2     image/802.jpeg     0              0          0        0          0   \n",
      "3     image/803.jpeg     0              0          0        0          0   \n",
      "4     image/804.jpeg     1              0          0        1          0   \n",
      "5     image/805.jpeg     1              0          1        0          0   \n",
      "..               ...   ...            ...        ...      ...        ...   \n",
      "296  image/1096.jpeg     0              0          0        0          0   \n",
      "297  image/1097.jpeg     0              1          0        0          0   \n",
      "298  image/1098.jpeg     0              0          1        0          0   \n",
      "299  image/1099.jpeg     1              0          0        0          0   \n",
      "300  image/1100.jpeg     0              0          0        0          1   \n",
      "\n",
      "     unknown  extent_of_damage  \n",
      "1          0                 1  \n",
      "2          0                 1  \n",
      "3          1                 0  \n",
      "4          0                 1  \n",
      "5          0                 3  \n",
      "..       ...               ...  \n",
      "296        0                 0  \n",
      "297        0                 2  \n",
      "298        0                 2  \n",
      "299        0                 1  \n",
      "300        0                 1  \n",
      "\n",
      "[300 rows x 8 columns]\n"
     ]
    }
   ],
   "source": [
    "#Combining both predictions and  creating final prediction\n",
    "\n",
    "pred1_df[\"extent_of_damage\"]=pred2\n",
    "final_pred_df = pred1_df\n",
    "print(\"The final prediction is as follows:\\n\")\n",
    "print(final_pred_df)"
   ]
  },
  {
   "cell_type": "code",
   "execution_count": 19,
   "id": "5b68404c",
   "metadata": {},
   "outputs": [],
   "source": [
    "#Exporting the prediction to excel file\n",
    "\n",
    "final_pred_df.to_excel('prediction.xlsx',index=False)"
   ]
  },
  {
   "cell_type": "code",
   "execution_count": 20,
   "id": "bfaf88aa",
   "metadata": {},
   "outputs": [
    {
     "name": "stdout",
     "output_type": "stream",
     "text": [
      "For Model1 i.e damage_detection:\n",
      "Train accuracy = 0.9402777552604675 \n",
      "Validation accuracy = 0.7407407164573669 \n",
      "Time taken = 85.3092942237854 seconds\n",
      "\n",
      "\n",
      "For Model2 i.e extent_of_damage prediction:\n",
      "Train accuracy = 0.9819444417953491 \n",
      "Validation accuracy = 0.8395061492919922 \n",
      "Time taken = 118.24885129928589 seconds\n"
     ]
    }
   ],
   "source": [
    "#Summary of both Models\n",
    "\n",
    "print(\"For Model1 i.e damage_detection:\\nTrain accuracy =\",train_accuracy1,\"\\nValidation accuracy =\",validation_accuracy1,\"\\nTime taken =\",time1,\"seconds\")\n",
    "print(\"\\n\")\n",
    "print(\"For Model2 i.e extent_of_damage prediction:\\nTrain accuracy =\",train_accuracy2,\"\\nValidation accuracy =\",validation_accuracy2,\"\\nTime taken =\",time2,\"seconds\")"
   ]
  },
  {
   "cell_type": "code",
   "execution_count": null,
   "id": "968ab7b4",
   "metadata": {},
   "outputs": [],
   "source": []
  }
 ],
 "metadata": {
  "kernelspec": {
   "display_name": "Python 3 (ipykernel)",
   "language": "python",
   "name": "python3"
  },
  "language_info": {
   "codemirror_mode": {
    "name": "ipython",
    "version": 3
   },
   "file_extension": ".py",
   "mimetype": "text/x-python",
   "name": "python",
   "nbconvert_exporter": "python",
   "pygments_lexer": "ipython3",
   "version": "3.9.12"
  }
 },
 "nbformat": 4,
 "nbformat_minor": 5
}
